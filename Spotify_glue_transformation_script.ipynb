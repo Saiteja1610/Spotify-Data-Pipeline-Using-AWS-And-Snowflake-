{
	"metadata": {
		"kernelspec": {
			"name": "glue_pyspark",
			"display_name": "Glue PySpark",
			"language": "python"
		},
		"language_info": {
			"name": "Python_Glue_Session",
			"mimetype": "text/x-python",
			"codemirror_mode": {
				"name": "python",
				"version": 3
			},
			"pygments_lexer": "python3",
			"file_extension": ".py"
		}
	},
	"nbformat_minor": 4,
	"nbformat": 4,
	"cells": [
		{
			"cell_type": "code",
			"source": "%idle_timeout 2880\n%glue_version 5.0\n%worker_type G.1X\n%number_of_workers 5\n\nimport sys\nfrom awsglue.transforms import *\nfrom awsglue.utils import getResolvedOptions\nfrom pyspark.context import SparkContext\nfrom awsglue.context import GlueContext\nfrom awsglue.job import Job\n\n  \nsc = SparkContext.getOrCreate()\nglueContext = GlueContext(sc)\nspark = glueContext.spark_session\njob = Job(glueContext)",
			"metadata": {
				"trusted": true,
				"editable": true
			},
			"execution_count": 15,
			"outputs": [
				{
					"name": "stderr",
					"text": "You are already connected to a glueetl session 18381d80-0516-4d9d-970b-087d8b4fdca0.\n\nNo change will be made to the current session that is set as glueetl. The session configuration change will apply to newly created sessions.\n",
					"output_type": "stream"
				},
				{
					"name": "stdout",
					"text": "Current idle_timeout is 2880 minutes.\nidle_timeout has been set to 2880 minutes.\n",
					"output_type": "stream"
				},
				{
					"name": "stderr",
					"text": "You are already connected to a glueetl session 18381d80-0516-4d9d-970b-087d8b4fdca0.\n\nNo change will be made to the current session that is set as glueetl. The session configuration change will apply to newly created sessions.\n",
					"output_type": "stream"
				},
				{
					"name": "stdout",
					"text": "Setting Glue version to: 5.0\n",
					"output_type": "stream"
				},
				{
					"name": "stderr",
					"text": "You are already connected to a glueetl session 18381d80-0516-4d9d-970b-087d8b4fdca0.\n\nNo change will be made to the current session that is set as glueetl. The session configuration change will apply to newly created sessions.\n",
					"output_type": "stream"
				},
				{
					"name": "stdout",
					"text": "Previous worker type: G.1X\nSetting new worker type to: G.1X\n",
					"output_type": "stream"
				},
				{
					"name": "stderr",
					"text": "You are already connected to a glueetl session 18381d80-0516-4d9d-970b-087d8b4fdca0.\n\nNo change will be made to the current session that is set as glueetl. The session configuration change will apply to newly created sessions.\n",
					"output_type": "stream"
				},
				{
					"name": "stdout",
					"text": "Previous number of workers: 5\nSetting new number of workers to: 5\n\n",
					"output_type": "stream"
				}
			]
		},
		{
			"cell_type": "code",
			"source": "from datetime import datetime\nfrom awsglue.dynamicframe import DynamicFrame",
			"metadata": {
				"trusted": true,
				"tags": []
			},
			"execution_count": 16,
			"outputs": [
				{
					"name": "stdout",
					"text": "\n",
					"output_type": "stream"
				}
			]
		},
		{
			"cell_type": "code",
			"source": "from pyspark.sql.functions import explode, col, to_date",
			"metadata": {
				"trusted": true,
				"tags": []
			},
			"execution_count": 2,
			"outputs": [
				{
					"name": "stdout",
					"text": "\n",
					"output_type": "stream"
				}
			]
		},
		{
			"cell_type": "code",
			"source": "s3_path = \"s3://spotify-etl-saiteja/Raw_data/for_process/\"\nsource_df = glueContext.create_dynamic_frame_from_options(\n    connection_type=\"s3\",\n    connection_options={\"paths\":[s3_path]},\n    format=\"json\")",
			"metadata": {
				"trusted": true,
				"tags": []
			},
			"execution_count": 3,
			"outputs": [
				{
					"name": "stdout",
					"text": "\n",
					"output_type": "stream"
				}
			]
		},
		{
			"cell_type": "code",
			"source": "spotify_df = source_df.toDF()",
			"metadata": {
				"trusted": true,
				"tags": []
			},
			"execution_count": 4,
			"outputs": [
				{
					"name": "stdout",
					"text": "/usr/lib/spark/python/lib/pyspark.zip/pyspark/sql/dataframe.py:147: UserWarning: DataFrame constructor is internal. Do not directly use it.\n",
					"output_type": "stream"
				}
			]
		},
		{
			"cell_type": "code",
			"source": "def process_albums(df):\n    df = df.withColumn(\"items\", explode(\"items\")).select(\n        col(\"items.track.album.id\").alias(\"album_id\"),\n        col(\"items.track.album.name\").alias(\"album_name\"),\n        col(\"items.track.album.release_date\").alias(\"release_date\"),\n        col(\"items.track.album.total_tracks\").alias(\"total_tracks\"),\n        col(\"items.track.album.external_urls.spotify\").alias(\"url\")\n    ).drop_duplicates([\"album_id\"])\n    return df",
			"metadata": {
				"trusted": true,
				"tags": []
			},
			"execution_count": 5,
			"outputs": [
				{
					"name": "stdout",
					"text": "\n",
					"output_type": "stream"
				}
			]
		},
		{
			"cell_type": "code",
			"source": "df = spotify_df",
			"metadata": {
				"trusted": true,
				"tags": []
			},
			"execution_count": 6,
			"outputs": [
				{
					"name": "stdout",
					"text": "\n",
					"output_type": "stream"
				}
			]
		},
		{
			"cell_type": "code",
			"source": "df_artists_explode = df.select(explode(col(\"items\")).alias(\"item\")).select(explode(col(\"item.track.artists\")).alias(\"artist\"))",
			"metadata": {
				"trusted": true,
				"tags": []
			},
			"execution_count": 7,
			"outputs": [
				{
					"name": "stdout",
					"text": "\n",
					"output_type": "stream"
				}
			]
		},
		{
			"cell_type": "code",
			"source": "def process_artists(df):\n    df_items_exploded = df.select(explode(col(\"items\")).alias(\"item\"))\n\n    df_artists_exploded = df_items_exploded.select(explode(col(\"item.track.artists\")).alias(\"artist\"))\n    df_artists = df_artists_exploded.select(\n        col(\"artist.id\").alias(\"artist_id\"),\n        col(\"artist.name\").alias(\"artist_name\"),\n        col(\"artist.external_urls.spotify\").alias(\"external_url\")\n    ).drop_duplicates([\"artist_id\"])\n    \n    return df_artists",
			"metadata": {
				"trusted": true,
				"tags": []
			},
			"execution_count": 8,
			"outputs": [
				{
					"name": "stdout",
					"text": "\n",
					"output_type": "stream"
				}
			]
		},
		{
			"cell_type": "code",
			"source": "def process_songs(df):\n    df_exploded = df.select(explode(col(\"items\")).alias(\"item\"))\n    df_songs = df_exploded.select(\n        col(\"item.track.id\").alias(\"song_id\"),\n        col(\"item.track.name\").alias(\"song_name\"),\n        col(\"item.track.duration_ms\").alias(\"duration_ms\"),\n        col(\"item.track.external_urls.spotify\").alias(\"url\"),\n        col(\"item.track.popularity\").alias(\"popularity\"),\n        col(\"item.added_at\").alias(\"song_added\"),\n        col(\"item.track.album.id\").alias(\"album_id\"),\n        col(\"item.track.artists\")[0][\"id\"].alias(\"artist_id\")\n    ).drop_duplicates([\"song_id\"])\n    \n    # Convert string dates in 'song_added' to actual date types\n    df_songs = df_songs.withColumn(\"song_added\", to_date(col(\"song_added\")))\n    \n    return df_songs",
			"metadata": {
				"trusted": true,
				"tags": []
			},
			"execution_count": 9,
			"outputs": [
				{
					"name": "stdout",
					"text": "\n",
					"output_type": "stream"
				}
			]
		},
		{
			"cell_type": "code",
			"source": "album_df = process_albums(spotify_df)\nalbum_df.show()",
			"metadata": {
				"trusted": true,
				"tags": []
			},
			"execution_count": 10,
			"outputs": [
				{
					"name": "stdout",
					"text": "+--------------------+--------------------+------------+------------+--------------------+\n|            album_id|          album_name|release_date|total_tracks|                 url|\n+--------------------+--------------------+------------+------------+--------------------+\n|0hBRqPYPXhr1RkTDG...|The Secret of Us ...|  2024-10-18|          20|https://open.spot...|\n|0ny6mZMBrYSO0s8HA...|A Jolly Christmas...|     1957-09|          15|https://open.spot...|\n|10FLjwfpbxLmW8c25...|    Die With A Smile|  2024-08-16|           1|https://open.spot...|\n|15XcLhiVMlSOipUdd...|                MUSE|  2024-07-19|           7|https://open.spot...|\n|1DILNh7maaYyKxe15...|Rock 'N' Roll Rar...|  1986-01-01|          20|https://open.spot...|\n|1Ph9nV8cNv7Gq7yHO...|Spotify Singles H...|  2023-11-14|           1|https://open.spot...|\n|1Ss0ArMRr91m83mOg...|                 GNX|  2024-11-21|          12|https://open.spot...|\n|1pSxnWkixgHxo9jnG...|Run Rudolph Run -...|  2024-10-15|           1|https://open.spot...|\n|27MNgBEnLCKoafz1g...|       Santa Tell Me|  2014-11-24|           1|https://open.spot...|\n|2B9FcHKqz3PWJlh0y...|The Classic Chris...|        1945|          14|https://open.spot...|\n|2D2boDrCPl6idtxpJ...|A Nonsense Christmas|  2022-12-07|           2|https://open.spot...|\n|2IRxVVqbSbqHJo8Zx...|            Timeless|  2024-09-27|           1|https://open.spot...|\n|2R5dzEQT6MDsnwiZS...|Caribou (Remaster...|  1974-06-28|          14|https://open.spot...|\n|2WlRAsKdyYOwg2tdB...|Do They Know It’s...|  1984-11-25|           2|https://open.spot...|\n|2jCRKrNZVbG2lGMs0...|Merry Christmas E...|  1991-11-25|          13|https://open.spot...|\n|2vcGYJcPfXUmCdcXX...|Everyday Is Chris...|  2018-11-01|          13|https://open.spot...|\n|34wa3zf2prXFMk47t...|Merry Christmas F...|  1964-10-19|          12|https://open.spot...|\n|3No96PtEFyRfX1oEL...|       Feliz Navidad|  2002-09-24|          15|https://open.spot...|\n|3NoP1ifIejWkGSDsO...|The Nat King Cole...|  1961-09-25|          36|https://open.spot...|\n|3aYOF3HVkIr1IzheP...|         Sleigh Ride|  2020-12-04|          15|https://open.spot...|\n+--------------------+--------------------+------------+------------+--------------------+\nonly showing top 20 rows\n",
					"output_type": "stream"
				}
			]
		},
		{
			"cell_type": "code",
			"source": "artist_df = process_artists(spotify_df)\nartist_df.show()",
			"metadata": {
				"trusted": true,
				"tags": []
			},
			"execution_count": 11,
			"outputs": [
				{
					"name": "stdout",
					"text": "+--------------------+--------------------+--------------------+\n|           artist_id|         artist_name|        external_url|\n+--------------------+--------------------+--------------------+\n|0HS96tPggl2nwiz3g...|Mitchell Ayres & ...|https://open.spot...|\n|0JXiS2FrAg3wQYJHc...|  B. Swanson Quartet|https://open.spot...|\n|0du5cEVh5yTK9QJze...|          Bruno Mars|https://open.spot...|\n|0wi4yTYlGtEnbGo4l...|     Shakin' Stevens|https://open.spot...|\n|0ys2OFYzWYB5hRDLC...|       Fuerza Regida|https://open.spot...|\n|11p2E654TTU8e0nZW...|          Mark Ambor|https://open.spot...|\n|1GxkXlMwML1oSg5eL...|       Michael Bublé|https://open.spot...|\n|1HY2Jd0NmPuamShAr...|           Lady Gaga|https://open.spot...|\n|1Ml4OuStDoympbREU...| The Fontane Sisters|https://open.spot...|\n|1Mxqyy3pSjf8kZZL4...|       Frank Sinatra|https://open.spot...|\n|1Xyo4u8uXC1ZmMpat...|          The Weeknd|https://open.spot...|\n|1iCnM8foFssWlPRLf...|          Gigi Perez|https://open.spot...|\n|1oSPZhvZMIrWW5I41...|               Jimin|https://open.spot...|\n|1uNFoZAHBGtllmzzn...|       Justin Bieber|https://open.spot...|\n|26AHtbjWKiwYzsoGo...|          Pentatonix|https://open.spot...|\n|293zczrfYafIItmnm...|         Chuck Berry|https://open.spot...|\n|2YZyLoL8N0Wb9xBt1...|      Kendrick Lamar|https://open.spot...|\n|2s4tjL6W3qrblOe0r...|            Yoko Ono|https://open.spot...|\n|35S20clEkkSNUo23V...|            Band Aid|https://open.spot...|\n|38EmEgXkgK51MT2tP...|         Bobby Helms|https://open.spot...|\n+--------------------+--------------------+--------------------+\nonly showing top 20 rows\n",
					"output_type": "stream"
				}
			]
		},
		{
			"cell_type": "code",
			"source": "song_df = process_songs(spotify_df)\nsong_df.show()",
			"metadata": {
				"trusted": true,
				"tags": []
			},
			"execution_count": 12,
			"outputs": [
				{
					"name": "stdout",
					"text": "+--------------------+--------------------+-----------+--------------------+----------+----------+--------------------+--------------------+\n|             song_id|           song_name|duration_ms|                 url|popularity|song_added|            album_id|           artist_id|\n+--------------------+--------------------+-----------+--------------------+----------+----------+--------------------+--------------------+\n|0HZk0QsXPhMNAWNDR...|          Hallelujah|     268960|https://open.spot...|        60|2024-12-31|3sId8sOH47yqOWopz...|26AHtbjWKiwYzsoGo...|\n|0SUKNXEqZnRw7g0NO...|Let It Snow! Let ...|     155586|https://open.spot...|        47|2024-12-31|2B9FcHKqz3PWJlh0y...|1Mxqyy3pSjf8kZZL4...|\n|0bYg9bo50gSsH3LtX...|All I Want for Ch...|     241106|https://open.spot...|        69|2024-12-31|61ulfFSmmxMhc2wCd...|4iHNK0tOyZPYnBU7n...|\n|0hz5PNF2wejwUKCMp...|     Merry Christmas|     208546|https://open.spot...|        12|2024-12-31|3mJm77zryIt06nbQV...|6eUKZXaKkcviH0Ku9...|\n|0lizgQ7Qw35od7CYa...|       Santa Tell Me|     204093|https://open.spot...|        65|2024-12-31|27MNgBEnLCKoafz1g...|66CXWjxzNUsdJxJ2J...|\n|0oPdaY4dXtc3ZsaG1...|       Feliz Navidad|     182066|https://open.spot...|        53|2024-12-31|3No96PtEFyRfX1oEL...|7K78lVZ8XzkjfRSI7...|\n|11P4sSu6BH2lAbWk1...|Step Into Christm...|     272333|https://open.spot...|        48|2024-12-31|2R5dzEQT6MDsnwiZS...|3PhoLpVuITZKcymsw...|\n|1Es7AUAhQvapIcoh3...|Timeless (feat. P...|     256000|https://open.spot...|        39|2024-12-31|2IRxVVqbSbqHJo8Zx...|1Xyo4u8uXC1ZmMpat...|\n|1LmkdWSxjCV7wKTPs...|Winter Wonderland...|     132800|https://open.spot...|        55|2024-12-31|1Ph9nV8cNv7Gq7yHO...|7gW0r5CkdEUMm42w9...|\n|1SV1fxF65n9NhRHp3...|Wonderful Christm...|     227653|https://open.spot...|        54|2024-12-31|48rypPDKdKiusMXKa...|4STHEaNw4mPZ2tzhe...|\n|1cOboCuWYI2osTOfo...|             Tu Boda|     225880|https://open.spot...|        83|2024-12-31|60cQzWfmdg4hyDXrp...|3l9G1G9MxH6DaRhwL...|\n|1rv46mRwDqMEhOBZ7...|It's Beginning to...|     207199|https://open.spot...|        46|2024-12-31|53fJVD9LpBKEMqdAF...|1GxkXlMwML1oSg5eL...|\n|2262bWmqomIaJXwCR...|         Sailor Song|     211978|https://open.spot...|        89|2024-12-31|68CN2LzY8MoxO2udy...|1iCnM8foFssWlPRLf...|\n|27RYrbL6S02LNVhDW...|Happy Xmas (War I...|     214333|https://open.spot...|        60|2024-12-31|555NIhJIQ4XoS5N7V...|4x1nvY2FN8jxqAFA0...|\n|27qAMKrDdKEs8HDXc...|Driving Home for ...|     241626|https://open.spot...|        46|2024-12-31|5tR0alqUd1KMW37vP...|5KEG7G8LDYlHgFDqZ...|\n|2CGNAOSuO1MEFCbBR...|   luther (with sza)|     177598|https://open.spot...|        88|2024-12-31|1Ss0ArMRr91m83mOg...|2YZyLoL8N0Wb9xBt1...|\n|2EjXfH91m7f8HiJN1...|Rockin' Around Th...|     126266|https://open.spot...|        63|2024-12-31|34wa3zf2prXFMk47t...|4cPHsZM98sKzmV26w...|\n|2FPfeYlrbSBR8PwCU...|Have Yourself A M...|     206600|https://open.spot...|        56|2024-12-31|0ny6mZMBrYSO0s8HA...|1Mxqyy3pSjf8kZZL4...|\n|2FRnf9qhLbvw8fu4I...|      Last Christmas|     262960|https://open.spot...|        71|2024-12-31|6egzU9NKfora01qaN...|5lpH0xAS4fVfLkACg...|\n|2HRqTpkrJO5ggZyyK...|            Espresso|     175459|https://open.spot...|        88|2024-12-31|3iPSVi54hsacKKl1x...|74KM79TiuVKeVCqs8...|\n+--------------------+--------------------+-----------+--------------------+----------+----------+--------------------+--------------------+\nonly showing top 20 rows\n",
					"output_type": "stream"
				}
			]
		},
		{
			"cell_type": "code",
			"source": "def write_to_s3(df, path_suffix, format_type=\"csv\"):\n    # Convert back to DynamicFrame\n    dynamic_frame = DynamicFrame.fromDF(df, glueContext, \"dynamic_frame\")\n    \n    glueContext.write_dynamic_frame.from_options(\n        frame = dynamic_frame,\n        connection_type = \"s3\",\n        connection_options = {\"path\": f\"s3://spotify-etl-saiteja/Transformation_data/{path_suffix}/\"},\n        format = format_type\n    )\n",
			"metadata": {
				"trusted": true,
				"tags": []
			},
			"execution_count": 13,
			"outputs": [
				{
					"name": "stdout",
					"text": "\n",
					"output_type": "stream"
				}
			]
		},
		{
			"cell_type": "code",
			"source": "#write data to s3   \nwrite_to_s3(album_df, \"album/album_transformed_{}\".format(datetime.now().strftime(\"%Y-%m-%d\")), \"csv\")\n",
			"metadata": {
				"trusted": true,
				"tags": []
			},
			"execution_count": 17,
			"outputs": [
				{
					"name": "stdout",
					"text": "\n",
					"output_type": "stream"
				}
			]
		},
		{
			"cell_type": "code",
			"source": "write_to_s3(artist_df, \"artist/artist_transformed_{}\".format(datetime.now().strftime(\"%Y-%m-%d\")), \"csv\")\n",
			"metadata": {
				"trusted": true,
				"tags": []
			},
			"execution_count": 18,
			"outputs": [
				{
					"name": "stdout",
					"text": "\n",
					"output_type": "stream"
				}
			]
		},
		{
			"cell_type": "code",
			"source": "write_to_s3(song_df, \"songs/songs_transformed_{}\".format(datetime.now().strftime(\"%Y-%m-%d\")), \"csv\")",
			"metadata": {
				"trusted": true,
				"tags": []
			},
			"execution_count": 19,
			"outputs": [
				{
					"name": "stdout",
					"text": "\n",
					"output_type": "stream"
				}
			]
		},
		{
			"cell_type": "code",
			"source": "",
			"metadata": {},
			"execution_count": null,
			"outputs": []
		}
	]
}